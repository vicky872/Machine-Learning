{
 "cells": [
  {
   "cell_type": "markdown",
   "id": "6e98541e",
   "metadata": {},
   "source": [
    "Que 4. Create a classification model to predict the value of the Type column."
   ]
  },
  {
   "cell_type": "code",
   "execution_count": 1,
   "id": "d0ffae2d",
   "metadata": {},
   "outputs": [
    {
     "data": {
      "text/html": [
       "<div>\n",
       "<style scoped>\n",
       "    .dataframe tbody tr th:only-of-type {\n",
       "        vertical-align: middle;\n",
       "    }\n",
       "\n",
       "    .dataframe tbody tr th {\n",
       "        vertical-align: top;\n",
       "    }\n",
       "\n",
       "    .dataframe thead th {\n",
       "        text-align: right;\n",
       "    }\n",
       "</style>\n",
       "<table border=\"1\" class=\"dataframe\">\n",
       "  <thead>\n",
       "    <tr style=\"text-align: right;\">\n",
       "      <th></th>\n",
       "      <th>Title</th>\n",
       "      <th>Category Name</th>\n",
       "      <th>Experience</th>\n",
       "      <th>Sub Category Name</th>\n",
       "      <th>Currency</th>\n",
       "      <th>Budget</th>\n",
       "      <th>Location</th>\n",
       "      <th>Freelancer Preferred From</th>\n",
       "      <th>Type</th>\n",
       "      <th>Date Posted</th>\n",
       "      <th>Description</th>\n",
       "      <th>Duration</th>\n",
       "      <th>Client Registration Date</th>\n",
       "      <th>Client City</th>\n",
       "      <th>Client Country</th>\n",
       "      <th>Client Currency</th>\n",
       "      <th>Client Job Title</th>\n",
       "    </tr>\n",
       "  </thead>\n",
       "  <tbody>\n",
       "    <tr>\n",
       "      <th>0</th>\n",
       "      <td>Banner images for web desgin websites</td>\n",
       "      <td>Design</td>\n",
       "      <td>Entry ($)</td>\n",
       "      <td>Graphic Design</td>\n",
       "      <td>EUR</td>\n",
       "      <td>60.0</td>\n",
       "      <td>remote</td>\n",
       "      <td>ALL</td>\n",
       "      <td>fixed_price</td>\n",
       "      <td>2023-04-29 18:06:39</td>\n",
       "      <td>We are looking to improve the banner images on...</td>\n",
       "      <td>NaN</td>\n",
       "      <td>2010-11-03</td>\n",
       "      <td>Dublin</td>\n",
       "      <td>Ireland</td>\n",
       "      <td>EUR</td>\n",
       "      <td>PPC Management</td>\n",
       "    </tr>\n",
       "    <tr>\n",
       "      <th>1</th>\n",
       "      <td>Make my picture a solid silhouette</td>\n",
       "      <td>Video, Photo &amp; Image</td>\n",
       "      <td>Entry ($)</td>\n",
       "      <td>Image Editing</td>\n",
       "      <td>GBP</td>\n",
       "      <td>20.0</td>\n",
       "      <td>remote</td>\n",
       "      <td>ALL</td>\n",
       "      <td>fixed_price</td>\n",
       "      <td>2023-04-29 17:40:28</td>\n",
       "      <td>Hello \\n\\nI need a quick designer to make 4 pi...</td>\n",
       "      <td>NaN</td>\n",
       "      <td>2017-02-21</td>\n",
       "      <td>London</td>\n",
       "      <td>United Kingdom</td>\n",
       "      <td>GBP</td>\n",
       "      <td>Office manager</td>\n",
       "    </tr>\n",
       "    <tr>\n",
       "      <th>2</th>\n",
       "      <td>Bookkeeper needed</td>\n",
       "      <td>Business</td>\n",
       "      <td>Entry ($)</td>\n",
       "      <td>Finance &amp; Accounting</td>\n",
       "      <td>GBP</td>\n",
       "      <td>12.0</td>\n",
       "      <td>remote</td>\n",
       "      <td>ALL</td>\n",
       "      <td>fixed_price</td>\n",
       "      <td>2023-04-29 17:40:06</td>\n",
       "      <td>Hi - I need a bookkeeper to assist with bookke...</td>\n",
       "      <td>NaN</td>\n",
       "      <td>2023-04-09</td>\n",
       "      <td>London</td>\n",
       "      <td>United Kingdom</td>\n",
       "      <td>GBP</td>\n",
       "      <td>Paralegal</td>\n",
       "    </tr>\n",
       "    <tr>\n",
       "      <th>3</th>\n",
       "      <td>Accountant needed</td>\n",
       "      <td>Business</td>\n",
       "      <td>Entry ($)</td>\n",
       "      <td>Tax Consulting &amp; Advising</td>\n",
       "      <td>GBP</td>\n",
       "      <td>14.0</td>\n",
       "      <td>remote</td>\n",
       "      <td>ALL</td>\n",
       "      <td>fixed_price</td>\n",
       "      <td>2023-04-29 17:32:01</td>\n",
       "      <td>Hi - I need an accountant to assist me with un...</td>\n",
       "      <td>NaN</td>\n",
       "      <td>2023-04-09</td>\n",
       "      <td>London</td>\n",
       "      <td>United Kingdom</td>\n",
       "      <td>GBP</td>\n",
       "      <td>Paralegal</td>\n",
       "    </tr>\n",
       "    <tr>\n",
       "      <th>4</th>\n",
       "      <td>Guest Post on High DA Website</td>\n",
       "      <td>Digital Marketing</td>\n",
       "      <td>Expert ($$$)</td>\n",
       "      <td>SEO</td>\n",
       "      <td>USD</td>\n",
       "      <td>10000.0</td>\n",
       "      <td>remote</td>\n",
       "      <td>ALL</td>\n",
       "      <td>fixed_price</td>\n",
       "      <td>2023-04-29 17:09:36</td>\n",
       "      <td>Hi, I am currently running a project where I w...</td>\n",
       "      <td>NaN</td>\n",
       "      <td>2016-07-01</td>\n",
       "      <td>Mumbai</td>\n",
       "      <td>India</td>\n",
       "      <td>USD</td>\n",
       "      <td>Guest posts buyer</td>\n",
       "    </tr>\n",
       "  </tbody>\n",
       "</table>\n",
       "</div>"
      ],
      "text/plain": [
       "                                   Title         Category Name    Experience  \\\n",
       "0  Banner images for web desgin websites                Design     Entry ($)   \n",
       "1    Make my picture a solid silhouette   Video, Photo & Image     Entry ($)   \n",
       "2                      Bookkeeper needed              Business     Entry ($)   \n",
       "3                     Accountant needed               Business     Entry ($)   \n",
       "4          Guest Post on High DA Website     Digital Marketing  Expert ($$$)   \n",
       "\n",
       "           Sub Category Name Currency   Budget Location  \\\n",
       "0             Graphic Design      EUR     60.0   remote   \n",
       "1              Image Editing      GBP     20.0   remote   \n",
       "2       Finance & Accounting      GBP     12.0   remote   \n",
       "3  Tax Consulting & Advising      GBP     14.0   remote   \n",
       "4                        SEO      USD  10000.0   remote   \n",
       "\n",
       "  Freelancer Preferred From         Type          Date Posted  \\\n",
       "0                       ALL  fixed_price  2023-04-29 18:06:39   \n",
       "1                       ALL  fixed_price  2023-04-29 17:40:28   \n",
       "2                       ALL  fixed_price  2023-04-29 17:40:06   \n",
       "3                       ALL  fixed_price  2023-04-29 17:32:01   \n",
       "4                       ALL  fixed_price  2023-04-29 17:09:36   \n",
       "\n",
       "                                         Description Duration  \\\n",
       "0  We are looking to improve the banner images on...      NaN   \n",
       "1  Hello \\n\\nI need a quick designer to make 4 pi...      NaN   \n",
       "2  Hi - I need a bookkeeper to assist with bookke...      NaN   \n",
       "3  Hi - I need an accountant to assist me with un...      NaN   \n",
       "4  Hi, I am currently running a project where I w...      NaN   \n",
       "\n",
       "  Client Registration Date Client City  Client Country Client Currency  \\\n",
       "0               2010-11-03      Dublin         Ireland             EUR   \n",
       "1               2017-02-21      London  United Kingdom             GBP   \n",
       "2               2023-04-09      London  United Kingdom             GBP   \n",
       "3               2023-04-09      London  United Kingdom             GBP   \n",
       "4               2016-07-01      Mumbai           India             USD   \n",
       "\n",
       "    Client Job Title  \n",
       "0     PPC Management  \n",
       "1     Office manager  \n",
       "2          Paralegal  \n",
       "3          Paralegal  \n",
       "4  Guest posts buyer  "
      ]
     },
     "execution_count": 1,
     "metadata": {},
     "output_type": "execute_result"
    }
   ],
   "source": [
    "import pandas as pd\n",
    "\n",
    "#Read given Freelance platform Project dataset\n",
    "df=pd.read_csv('Freelance Platform Projects.csv')\n",
    "\n",
    "df.head() #Display first five records"
   ]
  },
  {
   "cell_type": "code",
   "execution_count": 2,
   "id": "6a649ea7",
   "metadata": {},
   "outputs": [
    {
     "name": "stdout",
     "output_type": "stream",
     "text": [
      "<class 'pandas.core.frame.DataFrame'>\n",
      "RangeIndex: 12222 entries, 0 to 12221\n",
      "Data columns (total 17 columns):\n",
      " #   Column                     Non-Null Count  Dtype  \n",
      "---  ------                     --------------  -----  \n",
      " 0   Title                      12222 non-null  object \n",
      " 1   Category Name              12222 non-null  object \n",
      " 2   Experience                 12222 non-null  object \n",
      " 3   Sub Category Name          12222 non-null  object \n",
      " 4   Currency                   12222 non-null  object \n",
      " 5   Budget                     12222 non-null  float64\n",
      " 6   Location                   12222 non-null  object \n",
      " 7   Freelancer Preferred From  12222 non-null  object \n",
      " 8   Type                       12222 non-null  object \n",
      " 9   Date Posted                12222 non-null  object \n",
      " 10  Description                12222 non-null  object \n",
      " 11  Duration                   1602 non-null   object \n",
      " 12  Client Registration Date   12222 non-null  object \n",
      " 13  Client City                12222 non-null  object \n",
      " 14  Client Country             12222 non-null  object \n",
      " 15  Client Currency            12222 non-null  object \n",
      " 16  Client Job Title           4588 non-null   object \n",
      "dtypes: float64(1), object(16)\n",
      "memory usage: 1.6+ MB\n"
     ]
    }
   ],
   "source": [
    "df.info() #Detailed inofrmation about dataset "
   ]
  },
  {
   "cell_type": "code",
   "execution_count": 3,
   "id": "1aabda02",
   "metadata": {},
   "outputs": [
    {
     "data": {
      "text/plain": [
       "(12222, 17)"
      ]
     },
     "execution_count": 3,
     "metadata": {},
     "output_type": "execute_result"
    }
   ],
   "source": [
    "df.shape #Number of rows and columns in datasets (size of dataset)"
   ]
  },
  {
   "cell_type": "markdown",
   "id": "037f9cd1",
   "metadata": {},
   "source": [
    "### EDA And Preprocessing"
   ]
  },
  {
   "cell_type": "code",
   "execution_count": 4,
   "id": "9bd3c746",
   "metadata": {},
   "outputs": [
    {
     "data": {
      "text/plain": [
       "Title                            0\n",
       "Category Name                    0\n",
       "Experience                       0\n",
       "Sub Category Name                0\n",
       "Currency                         0\n",
       "Budget                           0\n",
       "Location                         0\n",
       "Freelancer Preferred From        0\n",
       "Type                             0\n",
       "Date Posted                      0\n",
       "Description                      0\n",
       "Duration                     10620\n",
       "Client Registration Date         0\n",
       "Client City                      0\n",
       "Client Country                   0\n",
       "Client Currency                  0\n",
       "Client Job Title              7634\n",
       "dtype: int64"
      ]
     },
     "execution_count": 4,
     "metadata": {},
     "output_type": "execute_result"
    }
   ],
   "source": [
    "df.isna().sum() #identification of null values /Handeling missing values"
   ]
  },
  {
   "cell_type": "code",
   "execution_count": 5,
   "id": "f5724a31",
   "metadata": {},
   "outputs": [
    {
     "data": {
      "text/plain": [
       "Index(['Title', 'Category Name', 'Experience', 'Sub Category Name', 'Currency',\n",
       "       'Budget', 'Location', 'Freelancer Preferred From', 'Type',\n",
       "       'Date Posted', 'Description', 'Duration', 'Client Registration Date',\n",
       "       'Client City', 'Client Country', 'Client Currency', 'Client Job Title'],\n",
       "      dtype='object')"
      ]
     },
     "execution_count": 5,
     "metadata": {},
     "output_type": "execute_result"
    }
   ],
   "source": [
    "df.columns #show the present columns in dataset"
   ]
  },
  {
   "cell_type": "code",
   "execution_count": 6,
   "id": "d9194cf0",
   "metadata": {},
   "outputs": [],
   "source": [
    "df.drop(columns=['Duration','Client Job Title'],inplace=True) #Delete the columns which are not required."
   ]
  },
  {
   "cell_type": "code",
   "execution_count": 7,
   "id": "862697f5",
   "metadata": {},
   "outputs": [
    {
     "data": {
      "text/plain": [
       "Index(['Title', 'Category Name', 'Experience', 'Sub Category Name', 'Currency',\n",
       "       'Budget', 'Location', 'Freelancer Preferred From', 'Type',\n",
       "       'Date Posted', 'Description', 'Client Registration Date', 'Client City',\n",
       "       'Client Country', 'Client Currency'],\n",
       "      dtype='object')"
      ]
     },
     "execution_count": 7,
     "metadata": {},
     "output_type": "execute_result"
    }
   ],
   "source": [
    "df.columns #show the present columns in dataset post dropping unnecessary columns"
   ]
  },
  {
   "cell_type": "code",
   "execution_count": 8,
   "id": "57fb1513",
   "metadata": {},
   "outputs": [
    {
     "data": {
      "text/plain": [
       "(12222, 15)"
      ]
     },
     "execution_count": 8,
     "metadata": {},
     "output_type": "execute_result"
    }
   ],
   "source": [
    "df.shape #Number of rows and columns in datasets (size of dataset) post dropping unnecessary"
   ]
  },
  {
   "cell_type": "code",
   "execution_count": 9,
   "id": "0eb19f21",
   "metadata": {},
   "outputs": [
    {
     "data": {
      "text/plain": [
       "Title                         object\n",
       "Category Name                 object\n",
       "Experience                    object\n",
       "Sub Category Name             object\n",
       "Currency                      object\n",
       "Budget                       float64\n",
       "Location                      object\n",
       "Freelancer Preferred From     object\n",
       "Type                          object\n",
       "Date Posted                   object\n",
       "Description                   object\n",
       "Client Registration Date      object\n",
       "Client City                   object\n",
       "Client Country                object\n",
       "Client Currency               object\n",
       "dtype: object"
      ]
     },
     "execution_count": 9,
     "metadata": {},
     "output_type": "execute_result"
    }
   ],
   "source": [
    "df.dtypes # Verify the data type of all columns "
   ]
  },
  {
   "cell_type": "code",
   "execution_count": 10,
   "id": "1d155b58",
   "metadata": {},
   "outputs": [],
   "source": [
    "# perform X, Y Split of dataset columns for further model training\n",
    "\n",
    "x=df.drop(columns=['Type']) #x has all the columns except 'Type'\n",
    "y=df['Type'] #y has only 'Type' column"
   ]
  },
  {
   "cell_type": "code",
   "execution_count": 11,
   "id": "54d9845a",
   "metadata": {},
   "outputs": [
    {
     "data": {
      "text/plain": [
       "Index(['Title', 'Category Name', 'Experience', 'Sub Category Name', 'Currency',\n",
       "       'Location', 'Freelancer Preferred From', 'Date Posted', 'Description',\n",
       "       'Client Registration Date', 'Client City', 'Client Country',\n",
       "       'Client Currency'],\n",
       "      dtype='object')"
      ]
     },
     "execution_count": 11,
     "metadata": {},
     "output_type": "execute_result"
    }
   ],
   "source": [
    "obj_cols = x.select_dtypes('object').columns #making array of all columns form X dataset having object datatype for further encoding\n",
    "obj_cols"
   ]
  },
  {
   "cell_type": "code",
   "execution_count": 12,
   "id": "30a963ff",
   "metadata": {},
   "outputs": [
    {
     "data": {
      "text/plain": [
       "Title                          int32\n",
       "Category Name                  int32\n",
       "Experience                     int32\n",
       "Sub Category Name              int32\n",
       "Currency                       int32\n",
       "Budget                       float64\n",
       "Location                       int32\n",
       "Freelancer Preferred From      int32\n",
       "Date Posted                    int32\n",
       "Description                    int32\n",
       "Client Registration Date       int32\n",
       "Client City                    int32\n",
       "Client Country                 int32\n",
       "Client Currency                int32\n",
       "dtype: object"
      ]
     },
     "execution_count": 12,
     "metadata": {},
     "output_type": "execute_result"
    }
   ],
   "source": [
    "from sklearn.preprocessing import LabelEncoder \n",
    "# change/encode datatype of all columns having object datatype for x dataset\n",
    "for col in obj_cols:      \n",
    "    encoder = LabelEncoder() # label encoder is used for Encoding\n",
    "    x[col] = encoder.fit_transform(x[col])\n",
    "\n",
    "x.dtypes"
   ]
  },
  {
   "cell_type": "code",
   "execution_count": 13,
   "id": "03d61dfa",
   "metadata": {},
   "outputs": [
    {
     "data": {
      "text/plain": [
       "<Axes: >"
      ]
     },
     "execution_count": 13,
     "metadata": {},
     "output_type": "execute_result"
    },
    {
     "data": {
      "image/png": "[encoded data removed]",
      "text/plain": [
       "<Figure size 640x480 with 1 Axes>"
      ]
     },
     "metadata": {},
     "output_type": "display_data"
    }
   ],
   "source": [
    "# Indetify Outliers and Handling\n",
    "import seaborn as sns\n",
    "import matplotlib.pyplot as plt\n",
    "\n",
    "sns.boxplot(x['Budget'])"
   ]
  },
  {
   "cell_type": "code",
   "execution_count": 14,
   "id": "04f980e7",
   "metadata": {},
   "outputs": [
    {
     "data": {
      "text/plain": [
       "42.455398395555996"
      ]
     },
     "execution_count": 14,
     "metadata": {},
     "output_type": "execute_result"
    }
   ],
   "source": [
    "#Checking skewness since Ouliers box plot is difficult to perform further processing\n",
    "\n",
    "x['Budget'].skew() "
   ]
  },
  {
   "cell_type": "code",
   "execution_count": 15,
   "id": "62e20b58",
   "metadata": {},
   "outputs": [
    {
     "data": {
      "text/plain": [
       "-0.010182795811508298"
      ]
     },
     "execution_count": 15,
     "metadata": {},
     "output_type": "execute_result"
    }
   ],
   "source": [
    "#need to handle skewness as its not less that 5, Skewness is handled with boxcox\n",
    "from scipy.stats import boxcox\n",
    "x['Budget']=x['Budget']+1\n",
    "x['Budget']=boxcox(x['Budget']+1)[0]\n",
    "x['Budget'].skew()"
   ]
  },
  {
   "cell_type": "code",
   "execution_count": 16,
   "id": "1c501ac9",
   "metadata": {},
   "outputs": [
    {
     "data": {
      "image/png": "[encoded data removed]",
      "text/plain": [
       "<Figure size 640x480 with 1 Axes>"
      ]
     },
     "metadata": {},
     "output_type": "display_data"
    }
   ],
   "source": [
    "#Histogram for budget to view skewness handled or not\n",
    "plt.hist(x['Budget'])\n",
    "plt.show()"
   ]
  },
  {
   "cell_type": "code",
   "execution_count": 17,
   "id": "6243591c",
   "metadata": {},
   "outputs": [
    {
     "data": {
      "text/plain": [
       "<Axes: >"
      ]
     },
     "execution_count": 17,
     "metadata": {},
     "output_type": "execute_result"
    },
    {
     "data": {
      "image/png": "[encoded data removed]",
      "text/plain": [
       "<Figure size 640x480 with 1 Axes>"
      ]
     },
     "metadata": {},
     "output_type": "display_data"
    }
   ],
   "source": [
    "#post skewness handling again check outliers\n",
    "sns.boxplot(x['Budget'])"
   ]
  },
  {
   "cell_type": "code",
   "execution_count": 18,
   "id": "e856b58d",
   "metadata": {},
   "outputs": [
    {
     "data": {
      "text/plain": [
       "<Axes: >"
      ]
     },
     "execution_count": 18,
     "metadata": {},
     "output_type": "execute_result"
    },
    {
     "data": {
      "image/png": "[encoded data removed]",
      "text/plain": [
       "<Figure size 640x480 with 1 Axes>"
      ]
     },
     "metadata": {},
     "output_type": "display_data"
    }
   ],
   "source": [
    "#Scaling need to be performed to further handel outliers\n",
    "from sklearn.preprocessing import StandardScaler\n",
    "scaler=StandardScaler()\n",
    "x['Budget']=scaler.fit_transform(x[['Budget']])\n",
    "sns.boxplot(x['Budget'])"
   ]
  },
  {
   "cell_type": "code",
   "execution_count": 19,
   "id": "38eb0b2d",
   "metadata": {},
   "outputs": [
    {
     "data": {
      "text/plain": [
       "fixed_price    10437\n",
       "hourly          1785\n",
       "Name: Type, dtype: int64"
      ]
     },
     "execution_count": 19,
     "metadata": {},
     "output_type": "execute_result"
    }
   ],
   "source": [
    "y.value_counts()  # Check value count of target Y"
   ]
  },
  {
   "cell_type": "code",
   "execution_count": 20,
   "id": "4d23d775",
   "metadata": {},
   "outputs": [
    {
     "data": {
      "text/plain": [
       "Int64Index([    4,     8,    14,    43,    68,    90,   110,   211,   223,\n",
       "              262,\n",
       "            ...\n",
       "            11745, 11816, 11840, 11980, 11985, 11994, 12000, 12038, 12100,\n",
       "            12204],\n",
       "           dtype='int64', length=419)"
      ]
     },
     "execution_count": 20,
     "metadata": {},
     "output_type": "execute_result"
    }
   ],
   "source": [
    "# Identifying outliers and saving inot variable for further deletion\n",
    "outliers = x[(x['Budget']>2)|(x['Budget']<-2)].index\n",
    "outliers"
   ]
  },
  {
   "cell_type": "code",
   "execution_count": 21,
   "id": "16699225",
   "metadata": {},
   "outputs": [],
   "source": [
    "x.drop(outliers, axis=0, inplace=True) #outliers rows are deleted from x\n",
    "y.drop(outliers, axis=0, inplace=True) #outliers rows are deleted from y"
   ]
  },
  {
   "cell_type": "code",
   "execution_count": 22,
   "id": "0dea8a2d",
   "metadata": {},
   "outputs": [
    {
     "data": {
      "text/plain": [
       "fixed_price    10056\n",
       "hourly          1747\n",
       "Name: Type, dtype: int64"
      ]
     },
     "execution_count": 22,
     "metadata": {},
     "output_type": "execute_result"
    }
   ],
   "source": [
    "y.value_counts()  # Check value count of target Y post outliers deletion"
   ]
  },
  {
   "cell_type": "code",
   "execution_count": 23,
   "id": "e153b59e",
   "metadata": {},
   "outputs": [
    {
     "data": {
      "text/plain": [
       "<Axes: >"
      ]
     },
     "execution_count": 23,
     "metadata": {},
     "output_type": "execute_result"
    },
    {
     "data": {
      "image/png": "[encoded data removed]",
      "text/plain": [
       "<Figure size 640x480 with 1 Axes>"
      ]
     },
     "metadata": {},
     "output_type": "display_data"
    }
   ],
   "source": [
    "#Boxplot after removing the outliers\n",
    "sns.boxplot(x['Budget'])"
   ]
  },
  {
   "cell_type": "markdown",
   "id": "f83f00b6",
   "metadata": {},
   "source": [
    "### Classification Model Slection and training"
   ]
  },
  {
   "cell_type": "markdown",
   "id": "1067db0d",
   "metadata": {},
   "source": [
    "XGBoost Classifier Model"
   ]
  },
  {
   "cell_type": "code",
   "execution_count": 24,
   "id": "7c5c3ceb",
   "metadata": {},
   "outputs": [
    {
     "data": {
      "text/plain": [
       "dtype('int32')"
      ]
     },
     "execution_count": 24,
     "metadata": {},
     "output_type": "execute_result"
    }
   ],
   "source": [
    "#Label Encoding for column 'Type' i.e Target Variable Y\n",
    "from sklearn.preprocessing import LabelEncoder\n",
    "encoder=LabelEncoder()\n",
    "y=encoder.fit_transform(y)\n",
    "\n",
    "y.dtype"
   ]
  },
  {
   "cell_type": "code",
   "execution_count": 25,
   "id": "4dbf35f3",
   "metadata": {},
   "outputs": [],
   "source": [
    "from sklearn.model_selection import train_test_split \n",
    "\n",
    "# Split data into training and testing\n",
    "\n",
    "xtrain, xtest, ytrain, ytest = train_test_split(x,y,\n",
    "                                                train_size=0.8,\n",
    "                                                random_state = 4)"
   ]
  },
  {
   "cell_type": "code",
   "execution_count": 26,
   "id": "8032a037",
   "metadata": {},
   "outputs": [
    {
     "data": {
      "text/plain": [
       "array([0, 0, 0, 0, 1])"
      ]
     },
     "execution_count": 26,
     "metadata": {},
     "output_type": "execute_result"
    }
   ],
   "source": [
    "#XGBoost Model\n",
    "\n",
    "import xgboost as xgb\n",
    "model=xgb.XGBClassifier()\n",
    "model.fit(xtrain,ytrain)\n",
    "trainpred=model.predict(xtrain)\n",
    "trainpred[:5]"
   ]
  },
  {
   "cell_type": "code",
   "execution_count": 27,
   "id": "86478cd5",
   "metadata": {},
   "outputs": [
    {
     "name": "stdout",
     "output_type": "stream",
     "text": [
      "              precision    recall  f1-score   support\n",
      "\n",
      "           0       1.00      1.00      1.00      8056\n",
      "           1       1.00      1.00      1.00      1386\n",
      "\n",
      "    accuracy                           1.00      9442\n",
      "   macro avg       1.00      1.00      1.00      9442\n",
      "weighted avg       1.00      1.00      1.00      9442\n",
      "\n"
     ]
    }
   ],
   "source": [
    "#Classification report for training data\n",
    "from sklearn.metrics import classification_report\n",
    "print(classification_report(ytrain,trainpred))"
   ]
  },
  {
   "cell_type": "code",
   "execution_count": 28,
   "id": "724824df",
   "metadata": {},
   "outputs": [
    {
     "name": "stdout",
     "output_type": "stream",
     "text": [
      "              precision    recall  f1-score   support\n",
      "\n",
      "           0       0.96      0.98      0.97      2000\n",
      "           1       0.87      0.78      0.82       361\n",
      "\n",
      "    accuracy                           0.95      2361\n",
      "   macro avg       0.92      0.88      0.90      2361\n",
      "weighted avg       0.95      0.95      0.95      2361\n",
      "\n"
     ]
    }
   ],
   "source": [
    "#Classification report for testing data\n",
    "testpred = model.predict(xtest)\n",
    "print(classification_report(ytest, testpred))"
   ]
  },
  {
   "cell_type": "markdown",
   "id": "29113b1d",
   "metadata": {},
   "source": [
    "Here XGB Boost Model is giving better Accuracy, F1 Score, Precision etc. compare to other model, Hence ita a best fit model."
   ]
  },
  {
   "cell_type": "code",
   "execution_count": null,
   "id": "926aebb7",
   "metadata": {},
   "outputs": [],
   "source": []
  }
 ],
 "metadata": {
  "kernelspec": {
   "display_name": "Python 3 (ipykernel)",
   "language": "python",
   "name": "python3"
  },
  "language_info": {
   "codemirror_mode": {
    "name": "ipython",
    "version": 3
   },
   "file_extension": ".py",
   "mimetype": "text/x-python",
   "name": "python",
   "nbconvert_exporter": "python",
   "pygments_lexer": "ipython3",
   "version": "3.11.4"
  }
 },
 "nbformat": 4,
 "nbformat_minor": 5
}
