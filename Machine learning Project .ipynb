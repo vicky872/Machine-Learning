{
 "cells": [
  {
   "cell_type": "code",
   "execution_count": 2,
   "id": "b79b09b8",
   "metadata": {},
   "outputs": [
    {
     "data": {
      "text/html": [
       "<div>\n",
       "<style scoped>\n",
       "    .dataframe tbody tr th:only-of-type {\n",
       "        vertical-align: middle;\n",
       "    }\n",
       "\n",
       "    .dataframe tbody tr th {\n",
       "        vertical-align: top;\n",
       "    }\n",
       "\n",
       "    .dataframe thead th {\n",
       "        text-align: right;\n",
       "    }\n",
       "</style>\n",
       "<table border=\"1\" class=\"dataframe\">\n",
       "  <thead>\n",
       "    <tr style=\"text-align: right;\">\n",
       "      <th></th>\n",
       "      <th>Title</th>\n",
       "      <th>Category Name</th>\n",
       "      <th>Experience</th>\n",
       "      <th>Sub Category Name</th>\n",
       "      <th>Currency</th>\n",
       "      <th>Budget</th>\n",
       "      <th>Location</th>\n",
       "      <th>Freelancer Preferred From</th>\n",
       "      <th>Type</th>\n",
       "      <th>Date Posted</th>\n",
       "      <th>Description</th>\n",
       "      <th>Duration</th>\n",
       "      <th>Client Registration Date</th>\n",
       "      <th>Client City</th>\n",
       "      <th>Client Country</th>\n",
       "      <th>Client Currency</th>\n",
       "      <th>Client Job Title</th>\n",
       "    </tr>\n",
       "  </thead>\n",
       "  <tbody>\n",
       "    <tr>\n",
       "      <th>0</th>\n",
       "      <td>Banner images for web desgin websites</td>\n",
       "      <td>Design</td>\n",
       "      <td>Entry ($)</td>\n",
       "      <td>Graphic Design</td>\n",
       "      <td>EUR</td>\n",
       "      <td>60.0</td>\n",
       "      <td>remote</td>\n",
       "      <td>ALL</td>\n",
       "      <td>fixed_price</td>\n",
       "      <td>2023-04-29 18:06:39</td>\n",
       "      <td>We are looking to improve the banner images on...</td>\n",
       "      <td>NaN</td>\n",
       "      <td>2010-11-03</td>\n",
       "      <td>Dublin</td>\n",
       "      <td>Ireland</td>\n",
       "      <td>EUR</td>\n",
       "      <td>PPC Management</td>\n",
       "    </tr>\n",
       "    <tr>\n",
       "      <th>1</th>\n",
       "      <td>Make my picture a solid silhouette</td>\n",
       "      <td>Video, Photo &amp; Image</td>\n",
       "      <td>Entry ($)</td>\n",
       "      <td>Image Editing</td>\n",
       "      <td>GBP</td>\n",
       "      <td>20.0</td>\n",
       "      <td>remote</td>\n",
       "      <td>ALL</td>\n",
       "      <td>fixed_price</td>\n",
       "      <td>2023-04-29 17:40:28</td>\n",
       "      <td>Hello \\n\\nI need a quick designer to make 4 pi...</td>\n",
       "      <td>NaN</td>\n",
       "      <td>2017-02-21</td>\n",
       "      <td>London</td>\n",
       "      <td>United Kingdom</td>\n",
       "      <td>GBP</td>\n",
       "      <td>Office manager</td>\n",
       "    </tr>\n",
       "    <tr>\n",
       "      <th>2</th>\n",
       "      <td>Bookkeeper needed</td>\n",
       "      <td>Business</td>\n",
       "      <td>Entry ($)</td>\n",
       "      <td>Finance &amp; Accounting</td>\n",
       "      <td>GBP</td>\n",
       "      <td>12.0</td>\n",
       "      <td>remote</td>\n",
       "      <td>ALL</td>\n",
       "      <td>fixed_price</td>\n",
       "      <td>2023-04-29 17:40:06</td>\n",
       "      <td>Hi - I need a bookkeeper to assist with bookke...</td>\n",
       "      <td>NaN</td>\n",
       "      <td>2023-04-09</td>\n",
       "      <td>London</td>\n",
       "      <td>United Kingdom</td>\n",
       "      <td>GBP</td>\n",
       "      <td>Paralegal</td>\n",
       "    </tr>\n",
       "    <tr>\n",
       "      <th>3</th>\n",
       "      <td>Accountant needed</td>\n",
       "      <td>Business</td>\n",
       "      <td>Entry ($)</td>\n",
       "      <td>Tax Consulting &amp; Advising</td>\n",
       "      <td>GBP</td>\n",
       "      <td>14.0</td>\n",
       "      <td>remote</td>\n",
       "      <td>ALL</td>\n",
       "      <td>fixed_price</td>\n",
       "      <td>2023-04-29 17:32:01</td>\n",
       "      <td>Hi - I need an accountant to assist me with un...</td>\n",
       "      <td>NaN</td>\n",
       "      <td>2023-04-09</td>\n",
       "      <td>London</td>\n",
       "      <td>United Kingdom</td>\n",
       "      <td>GBP</td>\n",
       "      <td>Paralegal</td>\n",
       "    </tr>\n",
       "    <tr>\n",
       "      <th>4</th>\n",
       "      <td>Guest Post on High DA Website</td>\n",
       "      <td>Digital Marketing</td>\n",
       "      <td>Expert ($$$)</td>\n",
       "      <td>SEO</td>\n",
       "      <td>USD</td>\n",
       "      <td>10000.0</td>\n",
       "      <td>remote</td>\n",
       "      <td>ALL</td>\n",
       "      <td>fixed_price</td>\n",
       "      <td>2023-04-29 17:09:36</td>\n",
       "      <td>Hi, I am currently running a project where I w...</td>\n",
       "      <td>NaN</td>\n",
       "      <td>2016-07-01</td>\n",
       "      <td>Mumbai</td>\n",
       "      <td>India</td>\n",
       "      <td>USD</td>\n",
       "      <td>Guest posts buyer</td>\n",
       "    </tr>\n",
       "  </tbody>\n",
       "</table>\n",
       "</div>"
      ],
      "text/plain": [
       "                                   Title         Category Name    Experience  \\\n",
       "0  Banner images for web desgin websites                Design     Entry ($)   \n",
       "1    Make my picture a solid silhouette   Video, Photo & Image     Entry ($)   \n",
       "2                      Bookkeeper needed              Business     Entry ($)   \n",
       "3                     Accountant needed               Business     Entry ($)   \n",
       "4          Guest Post on High DA Website     Digital Marketing  Expert ($$$)   \n",
       "\n",
       "           Sub Category Name Currency   Budget Location  \\\n",
       "0             Graphic Design      EUR     60.0   remote   \n",
       "1              Image Editing      GBP     20.0   remote   \n",
       "2       Finance & Accounting      GBP     12.0   remote   \n",
       "3  Tax Consulting & Advising      GBP     14.0   remote   \n",
       "4                        SEO      USD  10000.0   remote   \n",
       "\n",
       "  Freelancer Preferred From         Type          Date Posted  \\\n",
       "0                       ALL  fixed_price  2023-04-29 18:06:39   \n",
       "1                       ALL  fixed_price  2023-04-29 17:40:28   \n",
       "2                       ALL  fixed_price  2023-04-29 17:40:06   \n",
       "3                       ALL  fixed_price  2023-04-29 17:32:01   \n",
       "4                       ALL  fixed_price  2023-04-29 17:09:36   \n",
       "\n",
       "                                         Description Duration  \\\n",
       "0  We are looking to improve the banner images on...      NaN   \n",
       "1  Hello \\n\\nI need a quick designer to make 4 pi...      NaN   \n",
       "2  Hi - I need a bookkeeper to assist with bookke...      NaN   \n",
       "3  Hi - I need an accountant to assist me with un...      NaN   \n",
       "4  Hi, I am currently running a project where I w...      NaN   \n",
       "\n",
       "  Client Registration Date Client City  Client Country Client Currency  \\\n",
       "0               2010-11-03      Dublin         Ireland             EUR   \n",
       "1               2017-02-21      London  United Kingdom             GBP   \n",
       "2               2023-04-09      London  United Kingdom             GBP   \n",
       "3               2023-04-09      London  United Kingdom             GBP   \n",
       "4               2016-07-01      Mumbai           India             USD   \n",
       "\n",
       "    Client Job Title  \n",
       "0     PPC Management  \n",
       "1     Office manager  \n",
       "2          Paralegal  \n",
       "3          Paralegal  \n",
       "4  Guest posts buyer  "
      ]
     },
     "execution_count": 2,
     "metadata": {},
     "output_type": "execute_result"
    }
   ],
   "source": [
    "import pandas as pd\n",
    "\n",
    "#read given Freelance platform Project dataset\n",
    "df = pd.read_csv('Freelance Platform Projects.csv') \n",
    "df.head()"
   ]
  },
  {
   "cell_type": "code",
   "execution_count": 3,
   "id": "f82d5319",
   "metadata": {},
   "outputs": [
    {
     "name": "stdout",
     "output_type": "stream",
     "text": [
      "<class 'pandas.core.frame.DataFrame'>\n",
      "RangeIndex: 12222 entries, 0 to 12221\n",
      "Data columns (total 17 columns):\n",
      " #   Column                     Non-Null Count  Dtype  \n",
      "---  ------                     --------------  -----  \n",
      " 0   Title                      12222 non-null  object \n",
      " 1   Category Name              12222 non-null  object \n",
      " 2   Experience                 12222 non-null  object \n",
      " 3   Sub Category Name          12222 non-null  object \n",
      " 4   Currency                   12222 non-null  object \n",
      " 5   Budget                     12222 non-null  float64\n",
      " 6   Location                   12222 non-null  object \n",
      " 7   Freelancer Preferred From  12222 non-null  object \n",
      " 8   Type                       12222 non-null  object \n",
      " 9   Date Posted                12222 non-null  object \n",
      " 10  Description                12222 non-null  object \n",
      " 11  Duration                   1602 non-null   object \n",
      " 12  Client Registration Date   12222 non-null  object \n",
      " 13  Client City                12222 non-null  object \n",
      " 14  Client Country             12222 non-null  object \n",
      " 15  Client Currency            12222 non-null  object \n",
      " 16  Client Job Title           4588 non-null   object \n",
      "dtypes: float64(1), object(16)\n",
      "memory usage: 1.6+ MB\n"
     ]
    }
   ],
   "source": [
    "df.info() #Detailed inofrmation about dataset "
   ]
  },
  {
   "cell_type": "code",
   "execution_count": 4,
   "id": "9b052122",
   "metadata": {},
   "outputs": [
    {
     "data": {
      "text/plain": [
       "(12222, 17)"
      ]
     },
     "execution_count": 4,
     "metadata": {},
     "output_type": "execute_result"
    }
   ],
   "source": [
    "df.shape #Number of rows and columns in datasets (size of dataset)"
   ]
  },
  {
   "cell_type": "markdown",
   "id": "c3ecef58",
   "metadata": {},
   "source": [
    "### EDA and Pre Processing"
   ]
  },
  {
   "cell_type": "code",
   "execution_count": 5,
   "id": "79b0f0cb",
   "metadata": {},
   "outputs": [
    {
     "data": {
      "text/plain": [
       "Title                            0\n",
       "Category Name                    0\n",
       "Experience                       0\n",
       "Sub Category Name                0\n",
       "Currency                         0\n",
       "Budget                           0\n",
       "Location                         0\n",
       "Freelancer Preferred From        0\n",
       "Type                             0\n",
       "Date Posted                      0\n",
       "Description                      0\n",
       "Duration                     10620\n",
       "Client Registration Date         0\n",
       "Client City                      0\n",
       "Client Country                   0\n",
       "Client Currency                  0\n",
       "Client Job Title              7634\n",
       "dtype: int64"
      ]
     },
     "execution_count": 5,
     "metadata": {},
     "output_type": "execute_result"
    }
   ],
   "source": [
    "df.isna().sum() #identification of null values /Handeling missing values"
   ]
  },
  {
   "cell_type": "code",
   "execution_count": 6,
   "id": "2984084a",
   "metadata": {},
   "outputs": [],
   "source": [
    "df.drop(columns=['Duration','Client Job Title'],inplace=True) #Delete the columns which are not required."
   ]
  },
  {
   "cell_type": "code",
   "execution_count": 7,
   "id": "8731616d",
   "metadata": {},
   "outputs": [
    {
     "data": {
      "text/plain": [
       "Index(['Title', 'Category Name', 'Experience', 'Sub Category Name', 'Currency',\n",
       "       'Budget', 'Location', 'Freelancer Preferred From', 'Type',\n",
       "       'Date Posted', 'Description', 'Client Registration Date', 'Client City',\n",
       "       'Client Country', 'Client Currency'],\n",
       "      dtype='object')"
      ]
     },
     "execution_count": 7,
     "metadata": {},
     "output_type": "execute_result"
    }
   ],
   "source": [
    "df.columns # show the present columns in dataset"
   ]
  },
  {
   "cell_type": "code",
   "execution_count": 8,
   "id": "4c595862",
   "metadata": {},
   "outputs": [
    {
     "data": {
      "text/plain": [
       "Title                         object\n",
       "Category Name                 object\n",
       "Experience                    object\n",
       "Sub Category Name             object\n",
       "Currency                      object\n",
       "Budget                       float64\n",
       "Location                      object\n",
       "Freelancer Preferred From     object\n",
       "Type                          object\n",
       "Date Posted                   object\n",
       "Description                   object\n",
       "Client Registration Date      object\n",
       "Client City                   object\n",
       "Client Country                object\n",
       "Client Currency               object\n",
       "dtype: object"
      ]
     },
     "execution_count": 8,
     "metadata": {},
     "output_type": "execute_result"
    }
   ],
   "source": [
    "df.dtypes # Verify the data type of all columns "
   ]
  },
  {
   "cell_type": "code",
   "execution_count": 9,
   "id": "1066f878",
   "metadata": {},
   "outputs": [
    {
     "data": {
      "text/plain": [
       "Index(['Title', 'Category Name', 'Experience', 'Sub Category Name', 'Currency',\n",
       "       'Location', 'Freelancer Preferred From', 'Type', 'Date Posted',\n",
       "       'Description', 'Client Registration Date', 'Client City',\n",
       "       'Client Country', 'Client Currency'],\n",
       "      dtype='object')"
      ]
     },
     "execution_count": 9,
     "metadata": {},
     "output_type": "execute_result"
    }
   ],
   "source": [
    "obj_cols = df.select_dtypes('object').columns #making array of all columns having object datatype for further encoding\n",
    "obj_cols"
   ]
  },
  {
   "cell_type": "code",
   "execution_count": 10,
   "id": "b918bd02",
   "metadata": {},
   "outputs": [
    {
     "data": {
      "text/plain": [
       "Title                          int32\n",
       "Category Name                  int32\n",
       "Experience                     int32\n",
       "Sub Category Name              int32\n",
       "Currency                       int32\n",
       "Budget                       float64\n",
       "Location                       int32\n",
       "Freelancer Preferred From      int32\n",
       "Type                           int32\n",
       "Date Posted                    int32\n",
       "Description                    int32\n",
       "Client Registration Date       int32\n",
       "Client City                    int32\n",
       "Client Country                 int32\n",
       "Client Currency                int32\n",
       "dtype: object"
      ]
     },
     "execution_count": 10,
     "metadata": {},
     "output_type": "execute_result"
    }
   ],
   "source": [
    "from sklearn.preprocessing import LabelEncoder \n",
    "# change/encode datatype of all columns having object datatype\n",
    "for col in obj_cols:      \n",
    "    encoder = LabelEncoder()\n",
    "    df[col] = encoder.fit_transform(df[col])\n",
    "\n",
    "df.dtypes"
   ]
  },
  {
   "cell_type": "code",
   "execution_count": 11,
   "id": "bbe08599",
   "metadata": {},
   "outputs": [
    {
     "data": {
      "text/plain": [
       "<Axes: >"
      ]
     },
     "execution_count": 11,
     "metadata": {},
     "output_type": "execute_result"
    },
    {
     "data": {
      "image/png": "[encoded data removed]",
      "text/plain": [
       "<Figure size 640x480 with 1 Axes>"
      ]
     },
     "metadata": {},
     "output_type": "display_data"
    }
   ],
   "source": [
    "#Check outliers\n",
    "import seaborn as sns\n",
    "import matplotlib.pyplot as plt\n",
    "\n",
    "sns.boxplot(df['Budget'])"
   ]
  },
  {
   "cell_type": "code",
   "execution_count": 12,
   "id": "756fee28",
   "metadata": {},
   "outputs": [
    {
     "data": {
      "text/plain": [
       "42.455398395555996"
      ]
     },
     "execution_count": 12,
     "metadata": {},
     "output_type": "execute_result"
    }
   ],
   "source": [
    "#skewness\n",
    "#it should be less than 5\n",
    "df['Budget'].skew()"
   ]
  },
  {
   "cell_type": "code",
   "execution_count": 13,
   "id": "ad39487e",
   "metadata": {},
   "outputs": [
    {
     "data": {
      "text/plain": [
       "-0.010182795811508298"
      ]
     },
     "execution_count": 13,
     "metadata": {},
     "output_type": "execute_result"
    }
   ],
   "source": [
    "#Skewness is handled with boxcox\n",
    "from scipy.stats import boxcox\n",
    "df['Budget']=df['Budget']+1\n",
    "df['Budget']=boxcox(df['Budget']+1)[0]\n",
    "df['Budget'].skew()"
   ]
  },
  {
   "cell_type": "code",
   "execution_count": 14,
   "id": "fb3aaa6f",
   "metadata": {},
   "outputs": [
    {
     "data": {
      "image/png": "[encoded data removed]",
      "text/plain": [
       "<Figure size 640x480 with 1 Axes>"
      ]
     },
     "metadata": {},
     "output_type": "display_data"
    }
   ],
   "source": [
    "#Histogram for budget\n",
    "plt.hist(df['Budget'])\n",
    "plt.show()"
   ]
  },
  {
   "cell_type": "code",
   "execution_count": 15,
   "id": "81bb23a6",
   "metadata": {},
   "outputs": [
    {
     "data": {
      "text/plain": [
       "<Axes: >"
      ]
     },
     "execution_count": 15,
     "metadata": {},
     "output_type": "execute_result"
    },
    {
     "data": {
      "image/png": "[encoded data removed]",
      "text/plain": [
       "<Figure size 640x480 with 1 Axes>"
      ]
     },
     "metadata": {},
     "output_type": "display_data"
    }
   ],
   "source": [
    "#outliers\n",
    "sns.boxplot(df['Budget'])"
   ]
  },
  {
   "cell_type": "code",
   "execution_count": 16,
   "id": "c3000195",
   "metadata": {},
   "outputs": [
    {
     "data": {
      "text/plain": [
       "<Axes: >"
      ]
     },
     "execution_count": 16,
     "metadata": {},
     "output_type": "execute_result"
    },
    {
     "data": {
      "image/png": "[encoded data removed]",
      "text/plain": [
       "<Figure size 640x480 with 1 Axes>"
      ]
     },
     "metadata": {},
     "output_type": "display_data"
    }
   ],
   "source": [
    "#Scaling\n",
    "from sklearn.preprocessing import StandardScaler\n",
    "scaler=StandardScaler()\n",
    "df['Budget']=scaler.fit_transform(df[['Budget']])\n",
    "sns.boxplot(df['Budget'])"
   ]
  },
  {
   "cell_type": "code",
   "execution_count": 17,
   "id": "602499ef",
   "metadata": {},
   "outputs": [
    {
     "data": {
      "text/plain": [
       "Int64Index([    4,     8,    14,    43,    68,    90,   110,   211,   223,\n",
       "              262,\n",
       "            ...\n",
       "            11745, 11816, 11840, 11980, 11985, 11994, 12000, 12038, 12100,\n",
       "            12204],\n",
       "           dtype='int64', length=419)"
      ]
     },
     "execution_count": 17,
     "metadata": {},
     "output_type": "execute_result"
    }
   ],
   "source": [
    "outliers = df[(df['Budget']>2)|(df['Budget']<-2)].index\n",
    "outliers"
   ]
  },
  {
   "cell_type": "code",
   "execution_count": 18,
   "id": "70d208c2",
   "metadata": {},
   "outputs": [],
   "source": [
    "df.drop(outliers, axis=0, inplace=True)"
   ]
  },
  {
   "cell_type": "code",
   "execution_count": 19,
   "id": "68c482f5",
   "metadata": {},
   "outputs": [
    {
     "data": {
      "text/plain": [
       "<Axes: >"
      ]
     },
     "execution_count": 19,
     "metadata": {},
     "output_type": "execute_result"
    },
    {
     "data": {
      "image/png": "[encoded data removed]",
      "text/plain": [
       "<Figure size 640x480 with 1 Axes>"
      ]
     },
     "metadata": {},
     "output_type": "display_data"
    }
   ],
   "source": [
    "#Boxplot after removing the outliers\n",
    "sns.boxplot(df['Budget'])"
   ]
  },
  {
   "cell_type": "markdown",
   "id": "ee56e3cc",
   "metadata": {},
   "source": [
    "### Clustering"
   ]
  },
  {
   "cell_type": "code",
   "execution_count": 20,
   "id": "0f9d89cd",
   "metadata": {},
   "outputs": [
    {
     "data": {
      "text/html": [
       "<div>\n",
       "<style scoped>\n",
       "    .dataframe tbody tr th:only-of-type {\n",
       "        vertical-align: middle;\n",
       "    }\n",
       "\n",
       "    .dataframe tbody tr th {\n",
       "        vertical-align: top;\n",
       "    }\n",
       "\n",
       "    .dataframe thead th {\n",
       "        text-align: right;\n",
       "    }\n",
       "</style>\n",
       "<table border=\"1\" class=\"dataframe\">\n",
       "  <thead>\n",
       "    <tr style=\"text-align: right;\">\n",
       "      <th></th>\n",
       "      <th>Title</th>\n",
       "      <th>Category Name</th>\n",
       "      <th>Experience</th>\n",
       "      <th>Sub Category Name</th>\n",
       "      <th>Currency</th>\n",
       "      <th>Budget</th>\n",
       "      <th>Location</th>\n",
       "      <th>Freelancer Preferred From</th>\n",
       "      <th>Type</th>\n",
       "      <th>Date Posted</th>\n",
       "      <th>Description</th>\n",
       "      <th>Client Registration Date</th>\n",
       "      <th>Client City</th>\n",
       "      <th>Client Country</th>\n",
       "      <th>Client Currency</th>\n",
       "    </tr>\n",
       "  </thead>\n",
       "  <tbody>\n",
       "    <tr>\n",
       "      <th>0</th>\n",
       "      <td>969</td>\n",
       "      <td>1</td>\n",
       "      <td>0</td>\n",
       "      <td>42</td>\n",
       "      <td>0</td>\n",
       "      <td>-0.126639</td>\n",
       "      <td>1</td>\n",
       "      <td>1</td>\n",
       "      <td>0</td>\n",
       "      <td>9407</td>\n",
       "      <td>10434</td>\n",
       "      <td>163</td>\n",
       "      <td>489</td>\n",
       "      <td>61</td>\n",
       "      <td>0</td>\n",
       "    </tr>\n",
       "    <tr>\n",
       "      <th>1</th>\n",
       "      <td>6377</td>\n",
       "      <td>7</td>\n",
       "      <td>0</td>\n",
       "      <td>45</td>\n",
       "      <td>1</td>\n",
       "      <td>-1.119263</td>\n",
       "      <td>1</td>\n",
       "      <td>1</td>\n",
       "      <td>0</td>\n",
       "      <td>9406</td>\n",
       "      <td>1247</td>\n",
       "      <td>1441</td>\n",
       "      <td>940</td>\n",
       "      <td>129</td>\n",
       "      <td>1</td>\n",
       "    </tr>\n",
       "    <tr>\n",
       "      <th>2</th>\n",
       "      <td>1108</td>\n",
       "      <td>0</td>\n",
       "      <td>0</td>\n",
       "      <td>37</td>\n",
       "      <td>1</td>\n",
       "      <td>-1.598002</td>\n",
       "      <td>1</td>\n",
       "      <td>1</td>\n",
       "      <td>0</td>\n",
       "      <td>9405</td>\n",
       "      <td>2179</td>\n",
       "      <td>3144</td>\n",
       "      <td>940</td>\n",
       "      <td>129</td>\n",
       "      <td>1</td>\n",
       "    </tr>\n",
       "    <tr>\n",
       "      <th>3</th>\n",
       "      <td>467</td>\n",
       "      <td>0</td>\n",
       "      <td>0</td>\n",
       "      <td>90</td>\n",
       "      <td>1</td>\n",
       "      <td>-1.453496</td>\n",
       "      <td>1</td>\n",
       "      <td>1</td>\n",
       "      <td>0</td>\n",
       "      <td>9404</td>\n",
       "      <td>2181</td>\n",
       "      <td>3144</td>\n",
       "      <td>940</td>\n",
       "      <td>129</td>\n",
       "      <td>1</td>\n",
       "    </tr>\n",
       "    <tr>\n",
       "      <th>5</th>\n",
       "      <td>1818</td>\n",
       "      <td>6</td>\n",
       "      <td>1</td>\n",
       "      <td>26</td>\n",
       "      <td>0</td>\n",
       "      <td>1.497851</td>\n",
       "      <td>1</td>\n",
       "      <td>1</td>\n",
       "      <td>0</td>\n",
       "      <td>9402</td>\n",
       "      <td>568</td>\n",
       "      <td>635</td>\n",
       "      <td>488</td>\n",
       "      <td>128</td>\n",
       "      <td>0</td>\n",
       "    </tr>\n",
       "  </tbody>\n",
       "</table>\n",
       "</div>"
      ],
      "text/plain": [
       "   Title  Category Name  Experience  Sub Category Name  Currency    Budget  \\\n",
       "0    969              1           0                 42         0 -0.126639   \n",
       "1   6377              7           0                 45         1 -1.119263   \n",
       "2   1108              0           0                 37         1 -1.598002   \n",
       "3    467              0           0                 90         1 -1.453496   \n",
       "5   1818              6           1                 26         0  1.497851   \n",
       "\n",
       "   Location  Freelancer Preferred From  Type  Date Posted  Description  \\\n",
       "0         1                          1     0         9407        10434   \n",
       "1         1                          1     0         9406         1247   \n",
       "2         1                          1     0         9405         2179   \n",
       "3         1                          1     0         9404         2181   \n",
       "5         1                          1     0         9402          568   \n",
       "\n",
       "   Client Registration Date  Client City  Client Country  Client Currency  \n",
       "0                       163          489              61                0  \n",
       "1                      1441          940             129                1  \n",
       "2                      3144          940             129                1  \n",
       "3                      3144          940             129                1  \n",
       "5                       635          488             128                0  "
      ]
     },
     "execution_count": 20,
     "metadata": {},
     "output_type": "execute_result"
    }
   ],
   "source": [
    "df.head()"
   ]
  },
  {
   "cell_type": "code",
   "execution_count": 21,
   "id": "42443e49",
   "metadata": {},
   "outputs": [
    {
     "data": {
      "text/html": [
       "<div>\n",
       "<style scoped>\n",
       "    .dataframe tbody tr th:only-of-type {\n",
       "        vertical-align: middle;\n",
       "    }\n",
       "\n",
       "    .dataframe tbody tr th {\n",
       "        vertical-align: top;\n",
       "    }\n",
       "\n",
       "    .dataframe thead th {\n",
       "        text-align: right;\n",
       "    }\n",
       "</style>\n",
       "<table border=\"1\" class=\"dataframe\">\n",
       "  <thead>\n",
       "    <tr style=\"text-align: right;\">\n",
       "      <th></th>\n",
       "      <th>Category Name</th>\n",
       "      <th>Sub Category Name</th>\n",
       "    </tr>\n",
       "  </thead>\n",
       "  <tbody>\n",
       "    <tr>\n",
       "      <th>0</th>\n",
       "      <td>1</td>\n",
       "      <td>42</td>\n",
       "    </tr>\n",
       "    <tr>\n",
       "      <th>1</th>\n",
       "      <td>7</td>\n",
       "      <td>45</td>\n",
       "    </tr>\n",
       "    <tr>\n",
       "      <th>2</th>\n",
       "      <td>0</td>\n",
       "      <td>37</td>\n",
       "    </tr>\n",
       "    <tr>\n",
       "      <th>3</th>\n",
       "      <td>0</td>\n",
       "      <td>90</td>\n",
       "    </tr>\n",
       "    <tr>\n",
       "      <th>5</th>\n",
       "      <td>6</td>\n",
       "      <td>26</td>\n",
       "    </tr>\n",
       "  </tbody>\n",
       "</table>\n",
       "</div>"
      ],
      "text/plain": [
       "   Category Name  Sub Category Name\n",
       "0              1                 42\n",
       "1              7                 45\n",
       "2              0                 37\n",
       "3              0                 90\n",
       "5              6                 26"
      ]
     },
     "execution_count": 21,
     "metadata": {},
     "output_type": "execute_result"
    }
   ],
   "source": [
    "x = df.iloc[:, [1,3]]\n",
    "x.head()"
   ]
  },
  {
   "cell_type": "code",
   "execution_count": 22,
   "id": "6de20d5c",
   "metadata": {},
   "outputs": [
    {
     "name": "stderr",
     "output_type": "stream",
     "text": [
      "C:\\Users\\vikra\\anaconda3\\Lib\\site-packages\\sklearn\\cluster\\_kmeans.py:1412: FutureWarning: The default value of `n_init` will change from 10 to 'auto' in 1.4. Set the value of `n_init` explicitly to suppress the warning\n",
      "  super()._check_params_vs_input(X, default_n_init=10)\n",
      "C:\\Users\\vikra\\anaconda3\\Lib\\site-packages\\sklearn\\cluster\\_kmeans.py:1412: FutureWarning: The default value of `n_init` will change from 10 to 'auto' in 1.4. Set the value of `n_init` explicitly to suppress the warning\n",
      "  super()._check_params_vs_input(X, default_n_init=10)\n",
      "C:\\Users\\vikra\\anaconda3\\Lib\\site-packages\\sklearn\\cluster\\_kmeans.py:1412: FutureWarning: The default value of `n_init` will change from 10 to 'auto' in 1.4. Set the value of `n_init` explicitly to suppress the warning\n",
      "  super()._check_params_vs_input(X, default_n_init=10)\n",
      "C:\\Users\\vikra\\anaconda3\\Lib\\site-packages\\sklearn\\cluster\\_kmeans.py:1412: FutureWarning: The default value of `n_init` will change from 10 to 'auto' in 1.4. Set the value of `n_init` explicitly to suppress the warning\n",
      "  super()._check_params_vs_input(X, default_n_init=10)\n",
      "C:\\Users\\vikra\\anaconda3\\Lib\\site-packages\\sklearn\\cluster\\_kmeans.py:1412: FutureWarning: The default value of `n_init` will change from 10 to 'auto' in 1.4. Set the value of `n_init` explicitly to suppress the warning\n",
      "  super()._check_params_vs_input(X, default_n_init=10)\n",
      "C:\\Users\\vikra\\anaconda3\\Lib\\site-packages\\sklearn\\cluster\\_kmeans.py:1412: FutureWarning: The default value of `n_init` will change from 10 to 'auto' in 1.4. Set the value of `n_init` explicitly to suppress the warning\n",
      "  super()._check_params_vs_input(X, default_n_init=10)\n",
      "C:\\Users\\vikra\\anaconda3\\Lib\\site-packages\\sklearn\\cluster\\_kmeans.py:1412: FutureWarning: The default value of `n_init` will change from 10 to 'auto' in 1.4. Set the value of `n_init` explicitly to suppress the warning\n",
      "  super()._check_params_vs_input(X, default_n_init=10)\n",
      "C:\\Users\\vikra\\anaconda3\\Lib\\site-packages\\sklearn\\cluster\\_kmeans.py:1412: FutureWarning: The default value of `n_init` will change from 10 to 'auto' in 1.4. Set the value of `n_init` explicitly to suppress the warning\n",
      "  super()._check_params_vs_input(X, default_n_init=10)\n",
      "C:\\Users\\vikra\\anaconda3\\Lib\\site-packages\\sklearn\\cluster\\_kmeans.py:1412: FutureWarning: The default value of `n_init` will change from 10 to 'auto' in 1.4. Set the value of `n_init` explicitly to suppress the warning\n",
      "  super()._check_params_vs_input(X, default_n_init=10)\n",
      "C:\\Users\\vikra\\anaconda3\\Lib\\site-packages\\sklearn\\cluster\\_kmeans.py:1412: FutureWarning: The default value of `n_init` will change from 10 to 'auto' in 1.4. Set the value of `n_init` explicitly to suppress the warning\n",
      "  super()._check_params_vs_input(X, default_n_init=10)\n"
     ]
    },
    {
     "data": {
      "text/plain": [
       "[12666926.12979754,\n",
       " 2968200.0282623926,\n",
       " 1380738.997530869,\n",
       " 632095.9378084464,\n",
       " 378612.9302408252,\n",
       " 272667.5511138319,\n",
       " 204531.26980313082,\n",
       " 161517.6818060114,\n",
       " 133435.3271356151,\n",
       " 109558.33411088018]"
      ]
     },
     "execution_count": 22,
     "metadata": {},
     "output_type": "execute_result"
    }
   ],
   "source": [
    "from sklearn.cluster import KMeans\n",
    "\n",
    "wcss_list = []\n",
    "\n",
    "for i in range(1,11):\n",
    "    model = KMeans(n_clusters=i)\n",
    "    model.fit(x)\n",
    "    wcss = model.inertia_\n",
    "    wcss_list.append(wcss)\n",
    "    \n",
    "wcss_list"
   ]
  },
  {
   "cell_type": "code",
   "execution_count": 23,
   "id": "ed81d962",
   "metadata": {},
   "outputs": [
    {
     "data": {
      "image/png": "[encoded data removed]",
      "text/plain": [
       "<Figure size 640x480 with 1 Axes>"
      ]
     },
     "metadata": {},
     "output_type": "display_data"
    }
   ],
   "source": [
    "import matplotlib.pyplot as plt\n",
    "\n",
    "plt.plot(range(1,11), wcss_list)\n",
    "plt.title('ELbow Method Graph')\n",
    "plt.xlabel('Number of clusters')\n",
    "plt.ylabel('WCSS')\n",
    "plt.show()"
   ]
  },
  {
   "cell_type": "code",
   "execution_count": 24,
   "id": "f13421df",
   "metadata": {},
   "outputs": [
    {
     "name": "stderr",
     "output_type": "stream",
     "text": [
      "C:\\Users\\vikra\\anaconda3\\Lib\\site-packages\\sklearn\\cluster\\_kmeans.py:1412: FutureWarning: The default value of `n_init` will change from 10 to 'auto' in 1.4. Set the value of `n_init` explicitly to suppress the warning\n",
      "  super()._check_params_vs_input(X, default_n_init=10)\n"
     ]
    },
    {
     "data": {
      "text/plain": [
       "array([1, 1, 1, 0, 2])"
      ]
     },
     "execution_count": 24,
     "metadata": {},
     "output_type": "execute_result"
    }
   ],
   "source": [
    "# Here Elbow point is 4 since post 4 WCSS is almost constant\n",
    "\n",
    "kmeans = KMeans(n_clusters=4)\n",
    "kmeans.fit(x)\n",
    "pred = kmeans.predict(x)\n",
    "pred[:5]"
   ]
  },
  {
   "cell_type": "code",
   "execution_count": 25,
   "id": "089e08c7",
   "metadata": {},
   "outputs": [
    {
     "data": {
      "text/plain": [
       "array([[ 4.87351054, 98.87167736],\n",
       "       [ 2.29504685, 45.01311914],\n",
       "       [ 3.41308793, 14.55657805],\n",
       "       [ 4.91563675, 72.72649113]])"
      ]
     },
     "execution_count": 25,
     "metadata": {},
     "output_type": "execute_result"
    }
   ],
   "source": [
    "kmeans.cluster_centers_"
   ]
  },
  {
   "cell_type": "code",
   "execution_count": 26,
   "id": "3235e823",
   "metadata": {},
   "outputs": [
    {
     "data": {
      "text/plain": [
       "<matplotlib.legend.Legend at 0x1856b444350>"
      ]
     },
     "execution_count": 26,
     "metadata": {},
     "output_type": "execute_result"
    },
    {
     "data": {
      "image/png": "[encoded data removed]",
      "text/plain": [
       "<Figure size 640x480 with 1 Axes>"
      ]
     },
     "metadata": {},
     "output_type": "display_data"
    }
   ],
   "source": [
    "#Plot Clusters for selected columns \n",
    "\n",
    "plt.scatter(x.iloc[pred==0, 0], x.iloc[pred==0, 1],\n",
    " s=100, c='blue', label='Cluster 1')\n",
    "plt.scatter(x.iloc[pred==1, 0], x.iloc[pred==1, 1],\n",
    " s=100, c='green', label='Cluster 2')\n",
    "plt.scatter(x.iloc[pred==2, 0], x.iloc[pred==2, 1],\n",
    " s=100, c='red', label='Cluster 3')\n",
    "plt.scatter(x.iloc[pred==3, 0], x.iloc[pred==3, 1],\n",
    "s=100, c='yellow', label='Cluster 4')\n",
    "plt.scatter(kmeans.cluster_centers_[:,0], \n",
    " kmeans.cluster_centers_[:, 1],\n",
    " s=200, c='cyan', label='Cluster Centers')\n",
    "plt.title('Clusters of Project')\n",
    "plt.xlabel('Category')\n",
    "plt.ylabel('Sub Category')\n",
    "plt.legend()"
   ]
  },
  {
   "cell_type": "markdown",
   "id": "ae934581",
   "metadata": {},
   "source": [
    "### ML Model Devlopment for Budget prediction - Regression Model"
   ]
  },
  {
   "cell_type": "code",
   "execution_count": 27,
   "id": "c34851c7",
   "metadata": {},
   "outputs": [],
   "source": [
    "x = df.drop(columns=['Budget'])  # except Budget all colums will be x\n",
    "y = df['Budget'] # Budget is target variable"
   ]
  },
  {
   "cell_type": "code",
   "execution_count": 28,
   "id": "c788d5c7",
   "metadata": {},
   "outputs": [],
   "source": [
    "from sklearn.model_selection import train_test_split \n",
    "\n",
    "# splitting data into training and testing\n",
    "\n",
    "xtrain, xtest, ytrain, ytest = train_test_split(x,y,\n",
    "                                                train_size=0.8,\n",
    "                                                random_state = 4)"
   ]
  },
  {
   "cell_type": "code",
   "execution_count": 29,
   "id": "ea818f6d",
   "metadata": {},
   "outputs": [
    {
     "data": {
      "text/plain": [
       "array([ 0.36030091,  0.47422942, -0.3118427 ,  0.24338406, -1.49944096])"
      ]
     },
     "execution_count": 29,
     "metadata": {},
     "output_type": "execute_result"
    }
   ],
   "source": [
    "from sklearn.linear_model import LinearRegression\n",
    "\n",
    "model = LinearRegression()\n",
    "model.fit(xtrain, ytrain)   #training model using linear rgression\n",
    "trainpred = model.predict(xtrain) \n",
    "trainpred[:5]"
   ]
  },
  {
   "cell_type": "code",
   "execution_count": 30,
   "id": "bb3585ca",
   "metadata": {},
   "outputs": [
    {
     "data": {
      "text/plain": [
       "array([-0.12662107, -0.16224616, -0.1953412 , -0.29872616,  0.49870007])"
      ]
     },
     "execution_count": 30,
     "metadata": {},
     "output_type": "execute_result"
    }
   ],
   "source": [
    "testpred = model.predict(xtest)\n",
    "testpred[:5] "
   ]
  },
  {
   "cell_type": "code",
   "execution_count": 31,
   "id": "20a44a66",
   "metadata": {},
   "outputs": [
    {
     "data": {
      "text/plain": [
       "0.476477300520657"
      ]
     },
     "execution_count": 31,
     "metadata": {},
     "output_type": "execute_result"
    }
   ],
   "source": [
    "from sklearn.metrics import mean_squared_error\n",
    "\n",
    "err_train = mean_squared_error(ytrain, trainpred)\n",
    "err_train "
   ]
  },
  {
   "cell_type": "code",
   "execution_count": 32,
   "id": "d1ec9a4c",
   "metadata": {},
   "outputs": [
    {
     "data": {
      "text/plain": [
       "0.46420103315253985"
      ]
     },
     "execution_count": 32,
     "metadata": {},
     "output_type": "execute_result"
    }
   ],
   "source": [
    "err_test = mean_squared_error(ytest, testpred)\n",
    "err_test"
   ]
  },
  {
   "cell_type": "code",
   "execution_count": 33,
   "id": "6046176a",
   "metadata": {},
   "outputs": [
    {
     "data": {
      "text/plain": [
       "array([[1.0000e+00, 9.6900e+02, 1.0000e+00, ..., 0.0000e+00, 0.0000e+00,\n",
       "        0.0000e+00],\n",
       "       [1.0000e+00, 6.3770e+03, 7.0000e+00, ..., 1.6641e+04, 1.2900e+02,\n",
       "        1.0000e+00],\n",
       "       [1.0000e+00, 1.1080e+03, 0.0000e+00, ..., 1.6641e+04, 1.2900e+02,\n",
       "        1.0000e+00],\n",
       "       ...,\n",
       "       [1.0000e+00, 8.9270e+03, 6.0000e+00, ..., 1.6641e+04, 1.2900e+02,\n",
       "        1.0000e+00],\n",
       "       [1.0000e+00, 2.0570e+03, 1.0000e+00, ..., 1.3456e+04, 4.6400e+02,\n",
       "        1.6000e+01],\n",
       "       [1.0000e+00, 1.4070e+03, 0.0000e+00, ..., 1.6641e+04, 1.2900e+02,\n",
       "        1.0000e+00]])"
      ]
     },
     "execution_count": 33,
     "metadata": {},
     "output_type": "execute_result"
    }
   ],
   "source": [
    "from sklearn.preprocessing import PolynomialFeatures\n",
    "\n",
    "poly = PolynomialFeatures(degree=4)\n",
    "x_poly = poly.fit_transform(x)\n",
    "x_poly"
   ]
  },
  {
   "cell_type": "code",
   "execution_count": 35,
   "id": "30a265f6",
   "metadata": {},
   "outputs": [
    {
     "data": {
      "text/plain": [
       "array([-0.63740258, -0.76503025, -0.35965521, ..., -0.33329682,\n",
       "       -0.33766527,  0.46904335])"
      ]
     },
     "execution_count": 35,
     "metadata": {},
     "output_type": "execute_result"
    }
   ],
   "source": [
    "from sklearn.linear_model import LinearRegression\n",
    "\n",
    "model = LinearRegression()\n",
    "model.fit(x_poly, y)\n",
    "pred = model.predict(x_poly)\n",
    "pred"
   ]
  },
  {
   "cell_type": "code",
   "execution_count": 36,
   "id": "37f2073f",
   "metadata": {},
   "outputs": [
    {
     "data": {
      "text/plain": [
       "0.23994889758687077"
      ]
     },
     "execution_count": 36,
     "metadata": {},
     "output_type": "execute_result"
    }
   ],
   "source": [
    "from sklearn.metrics import mean_squared_error\n",
    "\n",
    "mse = mean_squared_error(y, pred)\n",
    "mse"
   ]
  },
  {
   "cell_type": "code",
   "execution_count": 37,
   "id": "3aff296b",
   "metadata": {},
   "outputs": [
    {
     "data": {
      "text/plain": [
       "0.3704564839673251"
      ]
     },
     "execution_count": 37,
     "metadata": {},
     "output_type": "execute_result"
    }
   ],
   "source": [
    "from sklearn.metrics import mean_absolute_error\n",
    "\n",
    "mae = mean_absolute_error(y, pred)\n",
    "mae"
   ]
  },
  {
   "cell_type": "code",
   "execution_count": 38,
   "id": "44417d7d",
   "metadata": {},
   "outputs": [
    {
     "data": {
      "text/plain": [
       "0.4898457895979823"
      ]
     },
     "execution_count": 38,
     "metadata": {},
     "output_type": "execute_result"
    }
   ],
   "source": [
    "import math\n",
    "\n",
    "rmse = math.sqrt(mse)\n",
    "rmse"
   ]
  },
  {
   "cell_type": "markdown",
   "id": "71a8d98d",
   "metadata": {},
   "source": [
    "Here polynomial regression Model gives Lowest Mean squared error hence its a best fit model"
   ]
  },
  {
   "cell_type": "code",
   "execution_count": null,
   "id": "37fcb149",
   "metadata": {},
   "outputs": [],
   "source": []
  }
 ],
 "metadata": {
  "kernelspec": {
   "display_name": "Python 3 (ipykernel)",
   "language": "python",
   "name": "python3"
  },
  "language_info": {
   "codemirror_mode": {
    "name": "ipython",
    "version": 3
   },
   "file_extension": ".py",
   "mimetype": "text/x-python",
   "name": "python",
   "nbconvert_exporter": "python",
   "pygments_lexer": "ipython3",
   "version": "3.11.4"
  }
 },
 "nbformat": 4,
 "nbformat_minor": 5
}
